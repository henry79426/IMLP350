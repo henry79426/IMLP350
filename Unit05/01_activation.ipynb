{
 "cells": [
  {
   "cell_type": "markdown",
   "metadata": {},
   "source": [
    "# 激活函數\n",
    "```\n",
    "step01 - 定義sigmoid函式\n",
    "step02 - 建立資料(x = -5~5中間每隔0.1，創建一個點)\n",
    "step03 - 將各點x激活sigmoid -> y\n",
    "step04 - 劃出圖形\n",
    "```"
   ]
  },
  {
   "cell_type": "markdown",
   "metadata": {},
   "source": [
    "## sigmoid \n"
   ]
  },
  {
   "cell_type": "code",
   "execution_count": 28,
   "metadata": {},
   "outputs": [],
   "source": [
    "import numpy as np\n",
    "import matplotlib.pylab as plt\n",
    "import time\n",
    "\n",
    "def sigmoid(z):\n",
    "    return 1 / ( 1  + np.exp(-z) )"
   ]
  },
  {
   "cell_type": "code",
   "execution_count": 36,
   "metadata": {},
   "outputs": [
    {
     "name": "stdout",
     "output_type": "stream",
     "text": [
      "[-5.00000000e+00 -4.90000000e+00 -4.80000000e+00 -4.70000000e+00\n",
      " -4.60000000e+00 -4.50000000e+00 -4.40000000e+00 -4.30000000e+00\n",
      " -4.20000000e+00 -4.10000000e+00 -4.00000000e+00 -3.90000000e+00\n",
      " -3.80000000e+00 -3.70000000e+00 -3.60000000e+00 -3.50000000e+00\n",
      " -3.40000000e+00 -3.30000000e+00 -3.20000000e+00 -3.10000000e+00\n",
      " -3.00000000e+00 -2.90000000e+00 -2.80000000e+00 -2.70000000e+00\n",
      " -2.60000000e+00 -2.50000000e+00 -2.40000000e+00 -2.30000000e+00\n",
      " -2.20000000e+00 -2.10000000e+00 -2.00000000e+00 -1.90000000e+00\n",
      " -1.80000000e+00 -1.70000000e+00 -1.60000000e+00 -1.50000000e+00\n",
      " -1.40000000e+00 -1.30000000e+00 -1.20000000e+00 -1.10000000e+00\n",
      " -1.00000000e+00 -9.00000000e-01 -8.00000000e-01 -7.00000000e-01\n",
      " -6.00000000e-01 -5.00000000e-01 -4.00000000e-01 -3.00000000e-01\n",
      " -2.00000000e-01 -1.00000000e-01 -1.77635684e-14  1.00000000e-01\n",
      "  2.00000000e-01  3.00000000e-01  4.00000000e-01  5.00000000e-01\n",
      "  6.00000000e-01  7.00000000e-01  8.00000000e-01  9.00000000e-01\n",
      "  1.00000000e+00  1.10000000e+00  1.20000000e+00  1.30000000e+00\n",
      "  1.40000000e+00  1.50000000e+00  1.60000000e+00  1.70000000e+00\n",
      "  1.80000000e+00  1.90000000e+00  2.00000000e+00  2.10000000e+00\n",
      "  2.20000000e+00  2.30000000e+00  2.40000000e+00  2.50000000e+00\n",
      "  2.60000000e+00  2.70000000e+00  2.80000000e+00  2.90000000e+00\n",
      "  3.00000000e+00  3.10000000e+00  3.20000000e+00  3.30000000e+00\n",
      "  3.40000000e+00  3.50000000e+00  3.60000000e+00  3.70000000e+00\n",
      "  3.80000000e+00  3.90000000e+00  4.00000000e+00  4.10000000e+00\n",
      "  4.20000000e+00  4.30000000e+00  4.40000000e+00  4.50000000e+00\n",
      "  4.60000000e+00  4.70000000e+00  4.80000000e+00  4.90000000e+00]\n"
     ]
    },
    {
     "data": {
      "text/plain": [
       "numpy.ndarray"
      ]
     },
     "execution_count": 36,
     "metadata": {},
     "output_type": "execute_result"
    }
   ],
   "source": [
    "#start = time.time()\n",
    "# -5 ~ 5 中間每隔 0.1，創建一個點\n",
    "X = np.arange(-5.0, 5.0, 0.1)\n",
    "print(X)\n",
    "type(X)"
   ]
  },
  {
   "cell_type": "code",
   "execution_count": 37,
   "metadata": {},
   "outputs": [
    {
     "name": "stdout",
     "output_type": "stream",
     "text": [
      "[0.00669285 0.00739154 0.00816257 0.0090133  0.0099518  0.01098694\n",
      " 0.01212843 0.01338692 0.01477403 0.0163025  0.01798621 0.01984031\n",
      " 0.02188127 0.02412702 0.02659699 0.02931223 0.03229546 0.03557119\n",
      " 0.03916572 0.04310725 0.04742587 0.05215356 0.05732418 0.06297336\n",
      " 0.06913842 0.07585818 0.0831727  0.09112296 0.09975049 0.10909682\n",
      " 0.11920292 0.13010847 0.14185106 0.15446527 0.16798161 0.18242552\n",
      " 0.19781611 0.21416502 0.23147522 0.24973989 0.26894142 0.2890505\n",
      " 0.31002552 0.33181223 0.35434369 0.37754067 0.40131234 0.42555748\n",
      " 0.450166   0.47502081 0.5        0.52497919 0.549834   0.57444252\n",
      " 0.59868766 0.62245933 0.64565631 0.66818777 0.68997448 0.7109495\n",
      " 0.73105858 0.75026011 0.76852478 0.78583498 0.80218389 0.81757448\n",
      " 0.83201839 0.84553473 0.85814894 0.86989153 0.88079708 0.89090318\n",
      " 0.90024951 0.90887704 0.9168273  0.92414182 0.93086158 0.93702664\n",
      " 0.94267582 0.94784644 0.95257413 0.95689275 0.96083428 0.96442881\n",
      " 0.96770454 0.97068777 0.97340301 0.97587298 0.97811873 0.98015969\n",
      " 0.98201379 0.9836975  0.98522597 0.98661308 0.98787157 0.98901306\n",
      " 0.9900482  0.9909867  0.99183743 0.99260846]\n"
     ]
    },
    {
     "data": {
      "text/plain": [
       "numpy.ndarray"
      ]
     },
     "execution_count": 37,
     "metadata": {},
     "output_type": "execute_result"
    }
   ],
   "source": [
    "Y = sigmoid(X)\n",
    "print(Y)\n",
    "type(Y)"
   ]
  },
  {
   "cell_type": "code",
   "execution_count": 46,
   "metadata": {},
   "outputs": [
    {
     "data": {
      "image/png": "[encoded data removed]",
      "text/plain": [
       "<Figure size 432x288 with 1 Axes>"
      ]
     },
     "metadata": {
      "needs_background": "light"
     },
     "output_type": "display_data"
    },
    {
     "name": "stdout",
     "output_type": "stream",
     "text": [
      "It cost 0.000000 sec\n"
     ]
    }
   ],
   "source": [
    "start = time.time()\n",
    "X = np.arange(-5.0, 5.0, 0.001)\n",
    "Y = sigmoid(X)\n",
    "now = time.time()\n",
    "plt.plot(X, Y)\n",
    "plt.ylim(-0.1, 1.1)\n",
    "plt.show()\n",
    "print(\"It cost %f sec\" %(now-start))"
   ]
  },
  {
   "cell_type": "markdown",
   "metadata": {},
   "source": [
    "## Tangent\n",
    "$$ -1\\leq  tanh(z)\\leq 1$$"
   ]
  },
  {
   "cell_type": "markdown",
   "metadata": {},
   "source": [
    "公式：\n",
    "$$z=tanh(z)=\\frac{e^{z}-e^{-z}}{e^{z}+e^{-z}} \\quad$$\n",
    "    \n",
    "優點就是與 sigmoid 的區別是，tanh 解決了sigmoid的輸出非「零為中心」的問題，因此實際應用中 tanh 會比 sigmoid 更好。<br>\n",
    "\n",
    "缺點類似sigmoid，雖然收斂速度相對快了，但也存在梯度彌散，而且也有冪計算，相對耗時。"
   ]
  },
  {
   "cell_type": "code",
   "execution_count": 39,
   "metadata": {},
   "outputs": [],
   "source": [
    "def tangent(x):\n",
    "    return (np.exp(x)-np.exp(-x)) / (np.exp(x) + np.exp(-x))"
   ]
  },
  {
   "cell_type": "code",
   "execution_count": 43,
   "metadata": {},
   "outputs": [
    {
     "data": {
      "image/png": "[encoded data removed]",
      "text/plain": [
       "<Figure size 432x288 with 1 Axes>"
      ]
     },
     "metadata": {
      "needs_background": "light"
     },
     "output_type": "display_data"
    },
    {
     "name": "stdout",
     "output_type": "stream",
     "text": [
      "It cost 0.000999 sec\n"
     ]
    }
   ],
   "source": [
    "start = time.time()\n",
    "x = np.arange(-5.0, 5.0, 0.001)\n",
    "y = tangent(x)\n",
    "now = time.time()\n",
    "plt.plot(x, y)\n",
    "plt.ylim(-1.1, 1.1)\n",
    "plt.show()\n",
    "print(\"It cost %f sec\" %(now-start))"
   ]
  },
  {
   "cell_type": "markdown",
   "metadata": {},
   "source": [
    "## Relu\n",
    "$$relu=max(0,z)$$\n",
    "優點：\n",
    "* SGD算法的收斂速度比 sigmoid 和 tanh 快；（梯度不會飽和，解決了梯度消失問題）\n",
    "* 計算復雜度低，不需要進行指數運算；\n",
    "* 適合用於後向傳播。\n",
    "\n",
    "缺點：\n",
    "\n",
    "* ReLU的輸出不是zero-centered；\n",
    "* Dead ReLU Problem（神經元壞死現象）：某些神經元可能永遠不會被激活，導致相應參數永遠不會被更新（在負數部分，梯度為0）。產生這種現象的兩個原因：參數初始化問題；learning rate太高導致在訓練過程中參數更新太大。 避免將learning rate設置太大或使用自動調節learning rate的算法。"
   ]
  },
  {
   "cell_type": "code",
   "execution_count": 41,
   "metadata": {},
   "outputs": [],
   "source": [
    "def relu(x):\n",
    "    return np.maximum(0,x)\n",
    "    '''\n",
    "    for i in range(len(x)):\n",
    "        if x[i] < 0:\n",
    "            x[i]=0\n",
    "    return x\n",
    "    '''"
   ]
  },
  {
   "cell_type": "code",
   "execution_count": 45,
   "metadata": {
    "scrolled": true
   },
   "outputs": [
    {
     "data": {
      "image/png": "[encoded data removed]",
      "text/plain": [
       "<Figure size 432x288 with 1 Axes>"
      ]
     },
     "metadata": {
      "needs_background": "light"
     },
     "output_type": "display_data"
    },
    {
     "name": "stdout",
     "output_type": "stream",
     "text": [
      "It cost 0.000994 sec\n"
     ]
    }
   ],
   "source": [
    "start = time.time()\n",
    "x = np.arange(-5.0, 5.0, 0.001)\n",
    "y = relu(x)\n",
    "now = time.time()\n",
    "plt.plot(x, y)\n",
    "plt.ylim(-1.0, 5.5)\n",
    "plt.show()\n",
    "print(\"It cost %f sec\" %(now-start))"
   ]
  },
  {
   "cell_type": "code",
   "execution_count": null,
   "metadata": {},
   "outputs": [],
   "source": []
  }
 ],
 "metadata": {
  "kernelspec": {
   "display_name": "Python 3",
   "language": "python",
   "name": "python3"
  },
  "language_info": {
   "codemirror_mode": {
    "name": "ipython",
    "version": 3
   },
   "file_extension": ".py",
   "mimetype": "text/x-python",
   "name": "python",
   "nbconvert_exporter": "python",
   "pygments_lexer": "ipython3",
   "version": "3.8.8"
  }
 },
 "nbformat": 4,
 "nbformat_minor": 2
}
